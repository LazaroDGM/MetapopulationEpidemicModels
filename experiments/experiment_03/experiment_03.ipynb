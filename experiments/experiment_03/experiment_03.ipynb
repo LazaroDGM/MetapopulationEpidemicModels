{
 "cells": [
  {
   "attachments": {},
   "cell_type": "markdown",
   "metadata": {},
   "source": [
    "# Experimento 03\n",
    "\n",
    "Replicación de la prueba realizada en el Trabajo de Diploma *Difusión de epidemias sobre redes empleando movimiento lagrangiano* para la selección del algoritmo de estimación de parámetros.\n",
    "\n",
    "## Experiencia anterior\n",
    "\n",
    "En dicho trabajo se emplean 3 algoritmos de optimización para la estimación de parámetros de modelos SIR con movimiento lagrangiano:\n",
    "- Enjambre de Partículas\n",
    "- Evolución Diferencial\n",
    "- Levenberg-Marquardt\n",
    "\n",
    "Para la realizaión de la prueba primero se resuelve un modelo con parámetros prefijados, y se extraen los resultados obtenidos. Luego se crea la función objetivo a minimizar con los mismos valores iniciales, y algunos de los parámetros anteriores utilizados, solo dejando sin emplear los parámetros que se desean buscar, haciendo esta función dependiente de estos. El autor utiliza los siguientes parámetros y valores iniciales:\n",
    "\n",
    "- Una red de $2$ nodos conectados entre ellos\n",
    "- $S_i(0) = 999$\n",
    "- $I_i(0) = 1$\n",
    "- $R_i(0) = 0$\n",
    "- $N_i(0) = 1000$\n",
    "- $\\phi_{ij} = 0.5$, $\\forall i \\ne j$\n",
    "- $\\tau_{ij} = 0.5$, $\\forall i \\ne j$\n",
    "- $\\beta^* = (0.25,0.25)$\n",
    "- $\\gamma^* = (0.052,0.052)$\n",
    "\n",
    "Además la resolución del SEDO se realiza para $t \\in (0,300)$. En dicha prueba el autor se propone hallar los valores de $\\beta$ y $\\gamma$, que minimicen la función de coste, manteniendo fijos el resto de valores. Aunque no queda del todo claro, el autor en este experimento parece que asume que el valor de $\\beta$ y $\\gamma$ son iguales para cada nodo. La función de coste que utiliza es:\n",
    "\n",
    "$$ f(\\beta, \\gamma) = \\sqrt{ \\frac{ \\sum_{i=1}^{t} ( \\widehat{I}(\\beta^*, \\gamma^*) - \\widehat{I}(\\beta, \\gamma) )^2 }{t} } $$\n",
    "\n",
    "donde $ \\widehat{I}(\\beta, \\gamma)$ es la cantidad de infestados totales en función del tiempo, para un modelo que tiene como parámetros $\\beta$ y $\\gamma$, considerando además el resto de parámetros y valores iniciales prefijados anteriormente. Note entonces que $ \\widehat{I}(\\beta^*, \\gamma^*) $ serían los infestados totales en función del tiempo, del modelo original. En otras palabras, esta función objetivo no es más que la raíz del error cuadrático medio.\n",
    "\n",
    "El autor aprovecha además esta prueba para verificar la eficiencia de las implementaciones sin `numba` y con `numba` del evaluador del SEDO (prueba que ya se realizó en el [Experimento 2](/experiments/experiment_02/README_experiment_02.md)). Para cada algoritmo se realizan 30 simulaciones y se extrae el tiempo promedio que demora este, y la media de los errores cuadráticos medios. Los resultados obtenidos en el trabajo de diploma fueron:\n",
    "\n",
    "| Función | tiempo promedio (seg) | error medio |\n",
    "|---------|-----------------------|-------------|\n",
    "| Levenberg-Marquardt | 9,517706791559855 | 0,0002232094 |\n",
    "| Levenberg-Marquardt Numba | 3,115034015973409 | 0,0002232094 |\n",
    "| PSO | 207,0603547811508 | 0,09694468588 |\n",
    "| PSO Numba | 56,24999956289927 | 0,086242849621 |\n",
    "| Differential Evolution | 569,3329263289769 | 0,00032080051 |\n",
    "| Differential Evolution Numba | 103,38979012966156 | 0,00023158657 |\n",
    "\n",
    "IMPORTANTE: estos resultados fueron logrados con una computadora con las siguientes características:\n",
    "- CPU:Intel Core i5-6500, 3,20GHz\n",
    "- Memoria Ram: 16 gb a 3200M Hz\n",
    "- Sistema Operativo: Ubuntu 20.04,\n",
    "\n",
    "## Replicación de la Prueba\n",
    "\n",
    "Para repetir el experimento utilizaremos los mismos valores y la misma función objetivo, así como los mismos algoritmos, pero no aseguramos que sea exactamente la misma implementación del algoritmo de optimización."
   ]
  },
  {
   "cell_type": "code",
   "execution_count": 237,
   "metadata": {},
   "outputs": [],
   "source": [
    "from scipy.integrate import solve_ivp\n",
    "from numba import njit\n",
    "import matplotlib.pyplot as plt\n",
    "import numpy as np\n",
    "from timeit import timeit\n",
    "from time import time\n",
    "from statistics import mean, stdev\n",
    "from sklearn.metrics import mean_squared_error"
   ]
  },
  {
   "cell_type": "code",
   "execution_count": 238,
   "metadata": {},
   "outputs": [],
   "source": [
    "@njit\n",
    "def fun_sir_lagrange_numba(t,y,Out, In, Beta, Gamma):\n",
    "    \n",
    "    K = Out.shape[0]\n",
    "    Out_i_k = Out.sum(axis=1)\n",
    "\n",
    "    y = y.reshape((4,K,K))\n",
    "    I_k_i = y[1].sum(axis=0)\n",
    "    N_k_i = y[3].sum(axis=0)\n",
    "    new_y = np.zeros((4,K,K))\n",
    "    for i in range(K):\n",
    "        for j in range(K):\n",
    "            if i == j:\n",
    "                new_y[0,i,i] = - Beta[i] * y[0,i,i] * I_k_i[i] / N_k_i[i] - \\\n",
    "                                y[0,i,i] * Out_i_k[i] + (In[i,] * y[0,i]).sum()\n",
    "                new_y[1,i,i] =   Beta[i] * y[0,i,i] * I_k_i[i] / N_k_i[i] - Gamma[i] * y[1,i,i] - \\\n",
    "                                y[1,i,i] * Out_i_k[i] + (In[i,] * y[1,i]).sum()\n",
    "                new_y[2,i,i] =   Gamma[i] * y[1,i,i] - \\\n",
    "                                y[2,i,i] * Out_i_k[i] + (In[i,] * y[2,i]).sum()\n",
    "                new_y[3,i,i] = - y[3,i,i] * Out_i_k[i] + (In[i,] * y[3,i]).sum()\n",
    "            else:\n",
    "                new_y[0,i,j] = - Beta[j] * y[0,i,j] * I_k_i[j] / N_k_i[j] - \\\n",
    "                                In[i,j] * y[0,i,j] + Out[i,j] * y[0,i,i]\n",
    "                new_y[1,i,j] =   Beta[j] * y[0,i,j] * I_k_i[j] / N_k_i[j] - Gamma[j] * y[1,i,j] - \\\n",
    "                                In[i,j] * y[1,i,j] + Out[i,j] * y[1,i,i]\n",
    "                new_y[2,i,j] =   Gamma[j] * y[1,i,j] - \\\n",
    "                                In[i,j] * y[2,i,j] + Out[i,j] * y[2,i,i]\n",
    "                new_y[3,i,j] = - In[i,j] * y[3,i,j] + Out[i,j] * y[3,i,i]\n",
    "\n",
    "    new_y = new_y.reshape((4*K*K,))\n",
    "    return new_y"
   ]
  },
  {
   "cell_type": "code",
   "execution_count": 239,
   "metadata": {},
   "outputs": [],
   "source": [
    "Beta = np.array([0.25, 0.25])\n",
    "Gamma = np.array([0.052,0.052])\n",
    "Out = np.array([\n",
    "    [0, 0.5],\n",
    "    [0.5,0]\n",
    "])\n",
    "In = Out.copy()\n",
    "y0 = np.zeros((4,2,2))\n",
    "np.fill_diagonal(y0[0], 999)\n",
    "np.fill_diagonal(y0[1], 1)\n",
    "np.fill_diagonal(y0[3], 1000)\n",
    "y0 = y0.flatten()\n",
    "ts = np.linspace(0,300,301)\n",
    "\n",
    "real_sol = solve_ivp(fun_sir_lagrange_numba,(0,300), y0, t_eval=ts, args=(Out, In, Beta, Gamma))\n",
    "real_y = real_sol.y.reshape((4, 2*2, real_sol.y.shape[1]))\n",
    "real_I = real_y[1].sum(axis=0)"
   ]
  },
  {
   "cell_type": "code",
   "execution_count": 291,
   "metadata": {},
   "outputs": [],
   "source": [
    "def gen_individual_table(values):\n",
    "    text = f'| Tiempo Promedio (seg) | Tiempo Desviacion (seg) | RMSE Promedio | RMSE Desviacion | Iteraciones Promedio | Iteraciones Desviacion |'\n",
    "    text += f'\\n|---|---|---|---|---|---|\\n| '\n",
    "    means = np.round(values.mean(axis=0), decimals=6)\n",
    "    stds = np.round(values.std(axis=0), decimals=6)\n",
    "    for i in range(3):\n",
    "        text += str(means[i]) + ' | '\n",
    "        text += str(stds[i]) + ' | '\n",
    "    return text"
   ]
  },
  {
   "attachments": {},
   "cell_type": "markdown",
   "metadata": {},
   "source": [
    "### Enjambre de Partículas\n",
    "\n",
    "El algoritmo de enjambre de partículas (PSO, por sus siglas en inglés) es una metaheurística inspirada en el comportamiento social de los pájaros o peces en un enjambre. El algoritmo PSO se basa en la idea de que las partículas en un enjambre pueden colaborar para buscar soluciones de alta calidad en el espacio de búsqueda. Para entender este algoritmo primero se debe tener en cuenta sus características y consideraciones:\n",
    "\n",
    "- **Partículas**: Cada solución candidata a un problema de optimización se representa como una partícula en el espacio de búsqueda. Cada partícula tiene una posición y una velocidad.\n",
    "\n",
    "- **Posición y Velocidad**: La posición de una partícula representa una solución en el espacio de búsqueda, y la velocidad de la partícula determina cómo se mueve en ese espacio. La posición y la velocidad de las partículas se actualizan en cada iteración del algoritmo.\n",
    "\n",
    "- **Mejor Posición Personal (pbest)**: Cada partícula lleva un registro de su mejor posición individual (pbest), que es la mejor solución que ha encontrado hasta el momento en su recorrido.\n",
    "\n",
    "- **Mejor Posición Global (gbest)**: En el enjambre, existe una partícula que ha encontrado la mejor solución entre todas las partículas. Esta es la mejor posición global (gbest) y es compartida entre todas las partículas.\n",
    "\n",
    "- **Movimiento de las Partículas**: El movimiento de cada partícula se rige por tres influencias principales:\n",
    "\n",
    "    - **Inercia**: Cada partícula mantiene una inercia que determina cuánta importancia se da a la velocidad actual. Este indicador suele ser representado por $w$.\n",
    "    - **Atracción hacia pbest**: Las partículas son atraídas hacia su mejor posición personal (pbest). Este indicador se denota por $c_1$.\n",
    "    - **Atracción hacia pbest**: Similar al anterior pero esta vez, son atraídas hacia la mejor posición global. Se denota por $c_2$\n",
    "\n",
    "- **Actualización de las Posiciones y Velocidades**: En cada iteración, se actualizan las posiciones y velocidades de todas las partículas siguiendo las reglas de movimiento basadas en la inercia y las atracciones hacia pbest y gbest.\n",
    "\n",
    "- **Terminación**: El algoritmo continúa iterando hasta que se cumple un criterio de terminación, que podría ser un número máximo de iteraciones, una convergencia satisfactoria o un valor de la función objetivo deseado.\n",
    "\n",
    "Explicado este restaría analizar el funcionamiento de las ecuaciones de actualización de Posición y de Velocidad. Para ellos denotemos por $i$ a la $i-$ésima partícula del enjambre, $v_i$ su velocidad, $x_i$ su posición, $pbest_i$ la mejor posición de la partícula $i$, $gbest$ la mejor posición global alcanzada en el enjambre, $U_1, U_2 \\sim U(0,1)$ dos vectores con ditribución Uniforme, $w$ coeficiente de Inercia, $c_1$ coeficiente de atracción personal, y $c_2$ coeficiente de atracción global.\n",
    "\n",
    "Luego la ecuación para actualizar la velocidad de una partícula $i$ es:\n",
    "\n",
    "$$ v_i^{NEW} = w v_i + c_1 U_1 \\otimes (pbest_i - x_i) + c_2 U_2 \\otimes ( gbest - x_i ) $$\n",
    "\n",
    "y la ecuación para actualizar la nueva posición sería:\n",
    "\n",
    "$$ x_i^{NEW} = x_i + v_i^{NEW} $$\n",
    "\n",
    "La primera versión de este algoritmo no incluía el coeficiente de inercia, lo que sería equivalente a considerar $w=1$. Entendiendo lo descrito anteriormente se pueden inferir lo siguiente:\n",
    "\n",
    "- Un aumento de la inercia $w$, favorece la exploración, mientras que una disminución de este favorece la explotación.\n",
    "- Favorecer más la atracción personal $c_1$ incita a la exploración, en cambio favorecer la atracción global incrementará la explotación.\n",
    "\n",
    "Globalmente se suelen usar los valores de estos parámetros, donde se favorecen de igualforma la atracción personal y global, equilibrando explotación y exploración, sin embargo se selecciona un valor cercano a $1$ pero por debajo de este, para con el paso del tiempo favorecer la convergencia hacia la mejor posición global:\n",
    "- $w = 0.8$\n",
    "- $c_1 = 0.5$\n",
    "- $c_2 = 0.5$\n",
    "\n",
    "Formalizando el este algoritmo, el seudocódigo sería el siguiente:\n",
    "\n",
    "```\n",
    "REPEAT\n",
    "    FOR each particle i\n",
    "        IF f (xi ) > f (pbest_i ) THEN pbest_i ← xi ;\n",
    "            gbest ← max(pneighbors );\n",
    "            Update velocity (NEW_v_i);\n",
    "            Update position (NEW_x_i);\n",
    "    END\n",
    "UNTIL termination criterion is met;\n",
    "```\n",
    "\n",
    "#### Probando PSO Versión 1\n",
    "\n",
    "En este caso usaremos el módulo `sko.PSO` que nos ofrece la clase `PSO` que implementa este algoritmo. Usaremos los siguientes parámetros:\n",
    "\n",
    "- Cantidad de partículas: 15\n",
    "- Cantidad de iteraciones máximas: 100\n",
    "- $w = 0.8$\n",
    "- $c_1 = 0.5$\n",
    "- $c_2 = 0.5$\n",
    "- Condición de Parada: Se añade que cuando `fitness(x) < 0.1` se detenga el algoritmo"
   ]
  },
  {
   "cell_type": "code",
   "execution_count": 282,
   "metadata": {},
   "outputs": [],
   "source": [
    "from sko.PSO import PSO\n",
    "\n",
    "def fitness_PSO(value):\n",
    "    new_Beta = np.array([value[0], value[0]])\n",
    "    new_Gamma = np.array([value[1], value[1]])\n",
    "    estimate_sol = solve_ivp(fun_sir_lagrange_numba,(0,300), y0, t_eval=ts, args=(Out, In, new_Beta, new_Gamma))\n",
    "    estimate_y = estimate_sol.y.reshape((4, 2*2, estimate_sol.y.shape[1]))\n",
    "    estimate_I = estimate_y[1].sum(axis=0)\n",
    "    return mean_squared_error(real_I, estimate_I)"
   ]
  },
  {
   "cell_type": "code",
   "execution_count": 289,
   "metadata": {},
   "outputs": [],
   "source": [
    "'''\n",
    "results_PSO_1 = np.zeros((30,3))\n",
    "\n",
    "def run_pso_1(i):\n",
    "    pso = PSO(fitness_PSO, 2, 15, 100, 0.0, 1.0, verbose=False)\n",
    "    pso.run(1)\n",
    "    iter = 1\n",
    "    while pso.best_y[0] > 0.1 and iter < 100:\n",
    "        iter +=1\n",
    "        pso.run(1)\n",
    "    results_PSO_1\n",
    "    results_PSO_1[i,1] = pso.best_y\n",
    "    results_PSO_1[i,2] = iter\n",
    "\n",
    "for i in range(30):\n",
    "    results_PSO_1[i,0] = timeit(lambda: run_pso_1(i), number=1)\n",
    "np.savez_compressed('results_PSO_1', results_PSO_1=results_PSO_1)\n",
    "'''\n",
    "\n",
    "loaded_PSO_1 = np.load('results_PSO_1.npz', allow_pickle=True)\n",
    "results_PSO_1 = loaded_PSO_1['results_PSO_1']"
   ]
  },
  {
   "cell_type": "code",
   "execution_count": 292,
   "metadata": {},
   "outputs": [
    {
     "name": "stdout",
     "output_type": "stream",
     "text": [
      "| Tiempo Promedio (seg) | Tiempo Desviacion (seg) | RMSE Promedio | RMSE Desviacion | Iteraciones Promedio | Iteraciones Desviacion |\n",
      "|---|---|---|---|---|---|\n",
      "| 16.146225 | 2.786821 | 0.042763 | 0.024856 | 47.766667 | 7.636244 | \n"
     ]
    }
   ],
   "source": [
    "print(gen_individual_table(results_PSO_1))"
   ]
  },
  {
   "attachments": {},
   "cell_type": "markdown",
   "metadata": {},
   "source": [
    "| Tiempo Promedio (seg) | Tiempo Desviacion (seg) | RMSE Promedio | RMSE Desviacion | Iteraciones Promedio | Iteraciones Desviacion |\n",
    "|---|---|---|---|---|---|\n",
    "| 16.146225 | 2.786821 | 0.042763 | 0.024856 | 47.766667 | 7.636244 | "
   ]
  },
  {
   "attachments": {},
   "cell_type": "markdown",
   "metadata": {},
   "source": [
    "#### Probando PSO Versión 2\n",
    "\n",
    "En este caso usaremos el módulo `sko.PSO` que nos ofrece la clase `PSO` que implementa este algoritmo. Usaremos los siguientes parámetros:\n",
    "\n",
    "- Cantidad de partículas: 15\n",
    "- Cantidad de iteraciones máximas: 100\n",
    "- $w = 0.8$\n",
    "- $c_1 = 0.7$\n",
    "- $c_2 = 0.3$\n",
    "- Condición de Parada: Se añade que cuando `fitness(x) < 0.1` se detenga el algoritmo\n",
    "\n",
    "Note que estamos favoreciendo la atracción personal (exploración) por encima de la atracción global (explotación)."
   ]
  },
  {
   "cell_type": "code",
   "execution_count": 255,
   "metadata": {},
   "outputs": [],
   "source": [
    "'''\n",
    "results_PSO_2 = np.zeros((30,3))\n",
    "\n",
    "def run_pso_2(i):\n",
    "    pso = PSO(fitness_PSO, 2, 15, 100, 0.0, 1.0, verbose=False,c1=0.7, c2=0.3)\n",
    "    pso.run(1)\n",
    "    iter = 1\n",
    "    while pso.best_y[0] > 0.1 and iter < 100:\n",
    "        iter +=1\n",
    "        pso.run(1)\n",
    "    results_PSO_2\n",
    "    results_PSO_2[i,1] = pso.best_y\n",
    "    results_PSO_2[i,2] = iter\n",
    "\n",
    "for i in range(30):\n",
    "    results_PSO_2[i,0] = timeit(lambda: run_pso_2(i), number=1)\n",
    "np.savez_compressed('results_PSO_2', results_PSO_2=results_PSO_2)\n",
    "'''\n",
    "\n",
    "loaded_PSO_2 = np.load('results_PSO_2.npz', allow_pickle=True)\n",
    "results_PSO_2 = loaded_PSO_2['results_PSO_2']"
   ]
  },
  {
   "cell_type": "code",
   "execution_count": 293,
   "metadata": {},
   "outputs": [
    {
     "name": "stdout",
     "output_type": "stream",
     "text": [
      "| Tiempo Promedio (seg) | Tiempo Desviacion (seg) | RMSE Promedio | RMSE Desviacion | Iteraciones Promedio | Iteraciones Desviacion |\n",
      "|---|---|---|---|---|---|\n",
      "| 17.973089 | 2.223733 | 0.047235 | 0.032874 | 51.8 | 5.81607 | \n"
     ]
    }
   ],
   "source": [
    "print(gen_individual_table(results_PSO_2))"
   ]
  },
  {
   "attachments": {},
   "cell_type": "markdown",
   "metadata": {},
   "source": [
    "| Tiempo Promedio (seg) | Tiempo Desviacion (seg) | RMSE Promedio | RMSE Desviacion | Iteraciones Promedio | Iteraciones Desviacion |\n",
    "|---|---|---|---|---|---|\n",
    "| 17.973089 | 2.223733 | 0.047235 | 0.032874 | 51.8 | 5.81607 | "
   ]
  },
  {
   "attachments": {},
   "cell_type": "markdown",
   "metadata": {},
   "source": [
    "#### Probando PSO Versión 3\n",
    "\n",
    "En este caso usaremos el módulo `sko.PSO` que nos ofrece la clase `PSO` que implementa este algoritmo. Usaremos los siguientes parámetros:\n",
    "\n",
    "- Cantidad de partículas: 15\n",
    "- Cantidad de iteraciones máximas: 100\n",
    "- $w = 0.8$\n",
    "- $c_1 = 0.3$\n",
    "- $c_2 = 0.7$\n",
    "- Condición de Parada: Se añade que cuando `fitness(x) < 0.1` se detenga el algoritmo\n",
    "\n",
    "Note que estamos favoreciendo la atracción global (explotación) por encima de la atracción personal(exploración)."
   ]
  },
  {
   "cell_type": "code",
   "execution_count": 295,
   "metadata": {},
   "outputs": [
    {
     "name": "stdout",
     "output_type": "stream",
     "text": [
      "0\n",
      "1\n",
      "2\n",
      "3\n",
      "4\n",
      "5\n",
      "6\n",
      "7\n",
      "8\n",
      "9\n",
      "10\n",
      "11\n",
      "12\n",
      "13\n",
      "14\n",
      "15\n",
      "16\n",
      "17\n",
      "18\n",
      "19\n",
      "20\n",
      "21\n",
      "22\n",
      "23\n",
      "24\n",
      "25\n",
      "26\n",
      "27\n",
      "28\n",
      "29\n"
     ]
    }
   ],
   "source": [
    "#'''\n",
    "results_PSO_3 = np.zeros((30,3))\n",
    "\n",
    "def run_pso_3(i):\n",
    "    pso = PSO(fitness_PSO, 2, 15, 100, 0.0, 1.0, verbose=False,c1=0.3, c2=0.7)\n",
    "    pso.run(1)\n",
    "    iter = 1.0\n",
    "    while pso.best_y[0] > 0.1 and iter < 100:\n",
    "        iter +=1.0\n",
    "        pso.run(1)\n",
    "    results_PSO_3\n",
    "    results_PSO_3[i,1] = pso.best_y\n",
    "    results_PSO_3[i,2] = iter\n",
    "\n",
    "for i in range(30):\n",
    "    results_PSO_3[i,0] = timeit(lambda: run_pso_3(i), number=1)\n",
    "    print(i)\n",
    "np.savez_compressed('results_PSO_3', results_PSO_3=results_PSO_3)\n",
    "#'''\n",
    "\n",
    "loaded_PSO_3 = np.load('results_PSO_3.npz', allow_pickle=True)\n",
    "results_PSO_3 = loaded_PSO_3['results_PSO_3']"
   ]
  },
  {
   "cell_type": "code",
   "execution_count": 296,
   "metadata": {},
   "outputs": [
    {
     "name": "stdout",
     "output_type": "stream",
     "text": [
      "| Tiempo Promedio (seg) | Tiempo Desviacion (seg) | RMSE Promedio | RMSE Desviacion | Iteraciones Promedio | Iteraciones Desviacion |\n",
      "|---|---|---|---|---|---|\n",
      "| 20.056115 | 8.733108 | 4898.532286 | 18328.467931 | 55.866667 | 12.940204 | \n"
     ]
    }
   ],
   "source": [
    "print(gen_individual_table(results_PSO_3))"
   ]
  },
  {
   "attachments": {},
   "cell_type": "markdown",
   "metadata": {},
   "source": [
    "| Tiempo Promedio (seg) | Tiempo Desviacion (seg) | RMSE Promedio | RMSE Desviacion | Iteraciones Promedio | Iteraciones Desviacion |\n",
    "|---|---|---|---|---|---|\n",
    "| 32.002476 | 1.023986 | 1e-05 | 1.8e-05 | 100.0 | 0.0 | "
   ]
  },
  {
   "attachments": {},
   "cell_type": "markdown",
   "metadata": {},
   "source": [
    "### Evolución Diferencial\n",
    "\n",
    "<span style=\"color:red\">FALTA agregar información sobre este algoritmo!!!</span>"
   ]
  },
  {
   "cell_type": "code",
   "execution_count": 243,
   "metadata": {},
   "outputs": [],
   "source": [
    "from sko.DE import DE\n",
    "\n",
    "def fitness_DE(value):\n",
    "    new_Beta = np.array([value[0], value[0]])\n",
    "    new_Gamma = np.array([value[1], value[1]])\n",
    "    estimate_sol = solve_ivp(fun_sir_lagrange_numba,(0,300), y0, t_eval=ts, args=(Out, In, new_Beta, new_Gamma))\n",
    "    estimate_y = estimate_sol.y.reshape((4, 2*2, estimate_sol.y.shape[1]))\n",
    "    estimate_I = estimate_y[1].sum(axis=0)\n",
    "    return mean_squared_error(real_I, estimate_I)"
   ]
  },
  {
   "cell_type": "code",
   "execution_count": 297,
   "metadata": {},
   "outputs": [],
   "source": [
    "'''\n",
    "results_DE_1 = np.zeros((30,3))\n",
    "\n",
    "def run_de_1(i):\n",
    "    de = DE(fitness_DE, n_dim=2, size_pop=14, max_iter=100, lb=[0.0,0.0], ub=[1.0,1.0])\n",
    "    de.run(1)\n",
    "    iter = 1\n",
    "    while de.best_y[0] > 0.1 and iter < 100:\n",
    "        iter +=1.0\n",
    "        de.run(1)\n",
    "    results_DE_1\n",
    "    results_DE_1[i,1] = de.best_y\n",
    "    results_DE_1[i,2] = iter\n",
    "\n",
    "for i in range(30):\n",
    "    results_DE_1[i,0] = timeit(lambda: run_de_1(i), number=1)\n",
    "np.savez_compressed('results_DE_1', results_DE_1=results_DE_1)\n",
    "'''\n",
    "\n",
    "loaded_DE_1 = np.load('results_DE_1.npz', allow_pickle=True)\n",
    "results_DE_1 = loaded_DE_1['results_DE_1']"
   ]
  },
  {
   "cell_type": "code",
   "execution_count": 298,
   "metadata": {},
   "outputs": [
    {
     "name": "stdout",
     "output_type": "stream",
     "text": [
      "| Tiempo Promedio (seg) | Tiempo Desviacion (seg) | RMSE Promedio | RMSE Desviacion | Iteraciones Promedio | Iteraciones Desviacion |\n",
      "|---|---|---|---|---|---|\n",
      "| 57.05207 | 8.91154 | 1.773334 | 7.635237 | 88.733333 | 12.688402 | \n"
     ]
    }
   ],
   "source": [
    "print(gen_individual_table(results_DE_1))"
   ]
  },
  {
   "attachments": {},
   "cell_type": "markdown",
   "metadata": {},
   "source": [
    "| Tiempo Promedio (seg) | Tiempo Desviacion (seg) | RMSE Promedio | RMSE Desviacion | Iteraciones Promedio | Iteraciones Desviacion |\n",
    "|---|---|---|---|---|---|\n",
    "| 57.05207 | 8.91154 | 1.773334 | 7.635237 | 88.733333 | 12.688402 |"
   ]
  },
  {
   "cell_type": "code",
   "execution_count": 299,
   "metadata": {},
   "outputs": [],
   "source": [
    "'''\n",
    "results_DE_2 = np.zeros((30,3))\n",
    "\n",
    "def run_de_2(i):\n",
    "    de = DE(fitness_DE, n_dim=2, size_pop=14, max_iter=100, lb=[0.0,0.0], ub=[1.0,1.0],prob_mut=0.7,F=0.5)\n",
    "    de.run(1)\n",
    "    iter = 1\n",
    "    while de.best_y[0] > 0.1 and iter < 100:\n",
    "        iter +=1.0\n",
    "        de.run(1)\n",
    "    results_DE_2\n",
    "    results_DE_2[i,1] = de.best_y\n",
    "    results_DE_2[i,2] = iter\n",
    "\n",
    "for i in range(30):\n",
    "    results_DE_2[i,0] = timeit(lambda: run_de_2(i), number=1)\n",
    "np.savez_compressed('results_DE_2', results_DE_2=results_DE_2)\n",
    "'''\n",
    "\n",
    "loaded_DE_2 = np.load('results_DE_2.npz', allow_pickle=True)\n",
    "results_DE_2 = loaded_DE_2['results_DE_2']"
   ]
  },
  {
   "cell_type": "code",
   "execution_count": 300,
   "metadata": {},
   "outputs": [
    {
     "name": "stdout",
     "output_type": "stream",
     "text": [
      "| Tiempo Promedio (seg) | Tiempo Desviacion (seg) | RMSE Promedio | RMSE Desviacion | Iteraciones Promedio | Iteraciones Desviacion |\n",
      "|---|---|---|---|---|---|\n",
      "| 23.522002 | 7.11211 | 98.931295 | 532.521319 | 38.7 | 12.122019 | \n"
     ]
    }
   ],
   "source": [
    "print(gen_individual_table(results_DE_2))"
   ]
  },
  {
   "attachments": {},
   "cell_type": "markdown",
   "metadata": {},
   "source": [
    "| Tiempo Promedio (seg) | Tiempo Desviacion (seg) | RMSE Promedio | RMSE Desviacion | Iteraciones Promedio | Iteraciones Desviacion |\n",
    "|---|---|---|---|---|---|\n",
    "| 23.522002 | 7.11211 | 98.931295 | 532.521319 | 38.7 | 12.122019 | "
   ]
  },
  {
   "cell_type": "code",
   "execution_count": 248,
   "metadata": {},
   "outputs": [],
   "source": [
    "from scipy.optimize import differential_evolution\n",
    "'''\n",
    "results_DE_3 = np.zeros((30,3))\n",
    "\n",
    "def run_de_3(i):\n",
    "    result = differential_evolution(fitness_DE, [(0, 1), (0, 1)],\n",
    "                                maxiter=100,disp=False,polish=False,\n",
    "                                workers=1, callback=lambda xk, convergence: fitness_DE(xk) < 0.1)\n",
    "    results_DE_3[i,1] = result.fun\n",
    "    results_DE_3[i,2] = result.nit\n",
    "\n",
    "for i in range(30):\n",
    "    results_DE_3[i,0] = timeit(lambda: run_de_3(i), number=1)\n",
    "np.savez_compressed('results_DE_3', results_DE_3=results_DE_3)\n",
    "'''\n",
    "\n",
    "loaded_DE_3 = np.load('results_DE_3.npz', allow_pickle=True)\n",
    "results_DE_3 = loaded_DE_3['results_DE_3']"
   ]
  },
  {
   "cell_type": "code",
   "execution_count": 301,
   "metadata": {},
   "outputs": [
    {
     "name": "stdout",
     "output_type": "stream",
     "text": [
      "| Tiempo Promedio (seg) | Tiempo Desviacion (seg) | RMSE Promedio | RMSE Desviacion | Iteraciones Promedio | Iteraciones Desviacion |\n",
      "|---|---|---|---|---|---|\n",
      "| 13.216901 | 1.746068 | 0.049754 | 0.031915 | 19.5 | 2.741654 | \n"
     ]
    }
   ],
   "source": [
    "print(gen_individual_table(results_DE_3))"
   ]
  },
  {
   "attachments": {},
   "cell_type": "markdown",
   "metadata": {},
   "source": [
    "| Tiempo Promedio (seg) | Tiempo Desviacion (seg) | RMSE Promedio | RMSE Desviacion | Iteraciones Promedio | Iteraciones Desviacion |\n",
    "|---|---|---|---|---|---|\n",
    "| 13.216901 | 1.746068 | 0.049754 | 0.031915 | 19.5 | 2.741654 | "
   ]
  },
  {
   "cell_type": "code",
   "execution_count": 250,
   "metadata": {},
   "outputs": [],
   "source": [
    "'''\n",
    "results_DE_4 = np.zeros((30,3))\n",
    "\n",
    "def run_de_4(i):\n",
    "    result = differential_evolution(fitness_DE, [(0, 1), (0, 1)],\n",
    "                                maxiter=100,disp=False,polish=False, updating='deferred',\n",
    "                                workers=-1, callback=lambda xk, convergence: fitness_DE(xk) < 0.1)\n",
    "    results_DE_4[i,1] = result.fun\n",
    "    results_DE_4[i,2] = result.nit\n",
    "\n",
    "for i in range(30):\n",
    "    results_DE_4[i,0] = timeit(lambda: run_de_4(i), number=1)\n",
    "np.savez_compressed('results_DE_4', results_DE_4=results_DE_4)\n",
    "'''\n",
    "\n",
    "loaded_DE_4 = np.load('results_DE_4.npz', allow_pickle=True)\n",
    "results_DE_4 = loaded_DE_4['results_DE_4']"
   ]
  },
  {
   "cell_type": "code",
   "execution_count": 302,
   "metadata": {},
   "outputs": [
    {
     "name": "stdout",
     "output_type": "stream",
     "text": [
      "| Tiempo Promedio (seg) | Tiempo Desviacion (seg) | RMSE Promedio | RMSE Desviacion | Iteraciones Promedio | Iteraciones Desviacion |\n",
      "|---|---|---|---|---|---|\n",
      "| 7.944636 | 0.861948 | 0.047819 | 0.030119 | 22.9 | 2.612151 | \n"
     ]
    }
   ],
   "source": [
    "print(gen_individual_table(results_DE_4))"
   ]
  },
  {
   "attachments": {},
   "cell_type": "markdown",
   "metadata": {},
   "source": [
    "| Tiempo Promedio (seg) | Tiempo Desviacion (seg) | RMSE Promedio | RMSE Desviacion | Iteraciones Promedio | Iteraciones Desviacion |\n",
    "|---|---|---|---|---|---|\n",
    "| 7.944636 | 0.861948 | 0.047819 | 0.030119 | 22.9 | 2.612151 | "
   ]
  },
  {
   "cell_type": "code",
   "execution_count": 385,
   "metadata": {},
   "outputs": [],
   "source": [
    "from scipy.optimize import least_squares\n",
    "from scipy.special import expit, logit\n",
    "\n",
    "def fitness_LS(value):\n",
    "    new_Beta = expit([value[0], value[0]])\n",
    "    new_Gamma = expit([value[1], value[1]])\n",
    "    estimate_sol = solve_ivp(fun_sir_lagrange_numba,(0,300), y0, t_eval=ts, args=(Out, In, new_Beta, new_Gamma))\n",
    "    estimate_y = estimate_sol.y.reshape((4, 2*2, estimate_sol.y.shape[1]))\n",
    "    estimate_I = estimate_y[1].sum(axis=0)\n",
    "    return real_I - estimate_I"
   ]
  },
  {
   "cell_type": "code",
   "execution_count": 410,
   "metadata": {},
   "outputs": [],
   "source": [
    "'''\n",
    "results_LM_1 = np.zeros((30,4))\n",
    "\n",
    "def run_lm_1(i):\n",
    "    result = least_squares(fitness_LS, logit(np.random.random((2,))), method='lm')\n",
    "    results_LM_1[i,1] = result.cost\n",
    "    results_LM_1[i,2] = 1\n",
    "    results_LM_1[i,3] = result.nfev\n",
    "\n",
    "for i in range(30):\n",
    "    results_LM_1[i,0] = timeit(lambda: run_lm_1(i), number=1)\n",
    "\n",
    "np.savez_compressed('results_LM_1', results_LM_1=results_LM_1)\n",
    "'''\n",
    "\n",
    "loaded_LM_1 = np.load('results_LM_1.npz', allow_pickle=True)\n",
    "results_LM_1 = loaded_LM_1['results_LM_1']"
   ]
  },
  {
   "cell_type": "code",
   "execution_count": 411,
   "metadata": {},
   "outputs": [
    {
     "name": "stdout",
     "output_type": "stream",
     "text": [
      "| Tiempo Promedio (seg) | Tiempo Desviacion (seg) | RMSE Promedio | RMSE Desviacion | Iteraciones Promedio | Iteraciones Desviacion |\n",
      "|---|---|---|---|---|---|\n",
      "| 1.184774 | 1.758653 | 4119849.723321 | 5414559.389893 | 1.0 | 0.0 | \n",
      "38.56666666666667\n",
      "54.27503006806066\n"
     ]
    }
   ],
   "source": [
    "print(gen_individual_table(results_LM_1))\n",
    "print(results_LM_1.mean(axis=0)[3])\n",
    "print(results_LM_1.std(axis=0)[3])"
   ]
  },
  {
   "attachments": {},
   "cell_type": "markdown",
   "metadata": {},
   "source": [
    "| Tiempo Promedio (seg) | Tiempo Desviacion (seg) | RMSE Promedio | RMSE Desviacion | Iteraciones Promedio | Iteraciones Desviacion | Cant. Evaluaciones Promedio | Cant. Evaluaciones Desviacion |\n",
    "|---|---|---|---|---|---|---|---|\n",
    "| 1.184774 | 1.758653 | 4119849.723321 | 5414559.389893 | 1.0 | 0.0 | 38.566667 | 54.275030 |"
   ]
  },
  {
   "cell_type": "code",
   "execution_count": 413,
   "metadata": {},
   "outputs": [],
   "source": [
    "'''\n",
    "results_LM_2 = np.zeros((30,4))\n",
    "\n",
    "def run_lm_2(i):\n",
    "    result = least_squares(fitness_LS, logit([0.5,0.5]), method='lm')\n",
    "    results_LM_2[i,1] = result.cost\n",
    "    results_LM_2[i,2] = 1\n",
    "    results_LM_2[i,3] = result.nfev\n",
    "\n",
    "for i in range(30):\n",
    "    results_LM_2[i,0] = timeit(lambda: run_lm_2(i), number=1)\n",
    "\n",
    "np.savez_compressed('results_LM_2', results_LM_2=results_LM_2)\n",
    "'''\n",
    "\n",
    "loaded_LM_2 = np.load('results_LM_2.npz', allow_pickle=True)\n",
    "results_LM_2 = loaded_LM_2['results_LM_2']"
   ]
  },
  {
   "cell_type": "code",
   "execution_count": 414,
   "metadata": {},
   "outputs": [
    {
     "name": "stdout",
     "output_type": "stream",
     "text": [
      "| Tiempo Promedio (seg) | Tiempo Desviacion (seg) | RMSE Promedio | RMSE Desviacion | Iteraciones Promedio | Iteraciones Desviacion |\n",
      "|---|---|---|---|---|---|\n",
      "| 1.164852 | 0.103465 | 0.0 | 0.0 | 1.0 | 0.0 | \n",
      "40.0\n",
      "0.0\n"
     ]
    }
   ],
   "source": [
    "print(gen_individual_table(results_LM_2))\n",
    "print(results_LM_2.mean(axis=0)[3])\n",
    "print(results_LM_2.std(axis=0)[3])"
   ]
  },
  {
   "attachments": {},
   "cell_type": "markdown",
   "metadata": {},
   "source": [
    "| Tiempo Promedio (seg) | Tiempo Desviacion (seg) | RMSE Promedio | RMSE Desviacion | Iteraciones Promedio | Iteraciones Desviacion | Cant. Evaluaciones Promedio | Cant. Evaluaciones Desviacion |\n",
    "|---|---|---|---|---|---|---|---|\n",
    "| 1.164852 | 0.103465 | 0.0 | 0.0 | 1.0 | 0.0 | 40.0 | 0.0 |"
   ]
  },
  {
   "cell_type": "code",
   "execution_count": 417,
   "metadata": {},
   "outputs": [],
   "source": [
    "'''\n",
    "results_LM_3 = np.zeros((30,4))\n",
    "\n",
    "def run_lm_3(i):\n",
    "    for _ in range(10):\n",
    "        result = least_squares(fitness_LS, logit(np.random.random((2,))), method='lm')\n",
    "        results_LM_3[i,2] += 1\n",
    "        results_LM_3[i,3] += result.nfev\n",
    "        if result.cost < 0.1:\n",
    "            results_LM_3[i,1] = result.cost\n",
    "            return\n",
    "    results_LM_3[i,1] = result.cost\n",
    "\n",
    "for i in range(30):\n",
    "    results_LM_3[i,0] = timeit(lambda: run_lm_3(i), number=1)\n",
    "\n",
    "np.savez_compressed('results_LM_3', results_LM_3=results_LM_3)\n",
    "'''\n",
    "\n",
    "loaded_LM_3 = np.load('results_LM_3.npz', allow_pickle=True)\n",
    "results_LM_3 = loaded_LM_3['results_LM_3']"
   ]
  },
  {
   "cell_type": "code",
   "execution_count": 418,
   "metadata": {},
   "outputs": [
    {
     "name": "stdout",
     "output_type": "stream",
     "text": [
      "| Tiempo Promedio (seg) | Tiempo Desviacion (seg) | RMSE Promedio | RMSE Desviacion | Iteraciones Promedio | Iteraciones Desviacion |\n",
      "|---|---|---|---|---|---|\n",
      "| 1.180474 | 0.813527 | 0.0 | 0.0 | 1.566667 | 1.202313 | \n",
      "41.86666666666667\n",
      "28.90297946963638\n"
     ]
    }
   ],
   "source": [
    "print(gen_individual_table(results_LM_3))\n",
    "print(results_LM_3.mean(axis=0)[3])\n",
    "print(results_LM_3.std(axis=0)[3])"
   ]
  },
  {
   "attachments": {},
   "cell_type": "markdown",
   "metadata": {},
   "source": [
    "| Tiempo Promedio (seg) | Tiempo Desviacion (seg) | RMSE Promedio | RMSE Desviacion | Iteraciones Promedio | Iteraciones Desviacion | Cant. Evaluaciones Promedio | Cant. Evaluaciones Desviacion |\n",
    "|---|---|---|---|---|---|---|---|\n",
    "| 1.180474 | 0.813527 | 0.0 | 0.0 | 1.566667 | 1.202313 | 41.866667 | 28.902979 |"
   ]
  },
  {
   "cell_type": "code",
   "execution_count": 419,
   "metadata": {},
   "outputs": [],
   "source": [
    "def gen_total_table(array_values, names):\n",
    "    text = f'| Métodos| Tiempo Promedio (seg) | Tiempo Desviacion (seg) | RMSE Promedio | RMSE Desviacion | Iteraciones Promedio | Iteraciones Desviacion |'\n",
    "    text += f'\\n|---|---|---|---|---|---|--|--|\\n| '\n",
    "    for i, values in enumerate(array_values):\n",
    "        text += f'| {names[i]} | '\n",
    "        means = np.round(values.mean(axis=0), decimals=6)\n",
    "        stds = np.round(values.std(axis=0), decimals=6)\n",
    "        for j in range(3):\n",
    "            text += str(means[j]) + ' | '\n",
    "            text += str(stds[j]) + ' | '\n",
    "        text += ' - | - |\\n'\n",
    "    return text"
   ]
  },
  {
   "cell_type": "code",
   "execution_count": 422,
   "metadata": {},
   "outputs": [
    {
     "name": "stdout",
     "output_type": "stream",
     "text": [
      "| Métodos| Tiempo Promedio (seg) | Tiempo Desviacion (seg) | RMSE Promedio | RMSE Desviacion | Iteraciones Promedio | Iteraciones Desviacion |\n",
      "|---|---|---|---|---|---|--|--|\n",
      "| | PSO 1 | 16.146225 | 2.786821 | 0.042763 | 0.024856 | 47.766667 | 7.636244 |  - | - |\n",
      "| PSO 2 | 17.973089 | 2.223733 | 0.047235 | 0.032874 | 51.8 | 5.81607 |  - | - |\n",
      "| PSO 3 | 20.056115 | 8.733108 | 4898.532286 | 18328.467931 | 55.866667 | 12.940204 |  - | - |\n",
      "| DE 1 | 57.05207 | 8.91154 | 1.773334 | 7.635237 | 88.733333 | 12.688402 |  - | - |\n",
      "| DE 2 | 23.522002 | 7.11211 | 98.931295 | 532.521319 | 38.7 | 12.122019 |  - | - |\n",
      "| DE 3 | 13.216901 | 1.746068 | 0.049754 | 0.031915 | 19.5 | 2.741654 |  - | - |\n",
      "| DE 4 | 7.944636 | 0.861948 | 0.047819 | 0.030119 | 22.9 | 2.612151 |  - | - |\n",
      "| LM 1 | 1.184774 | 1.758653 | 4119849.723321 | 5414559.389893 | 1.0 | 0.0 |  - | - |\n",
      "| LM 2 | 1.164852 | 0.103465 | 0.0 | 0.0 | 1.0 | 0.0 |  - | - |\n",
      "| LM 3 | 1.180474 | 0.813527 | 0.0 | 0.0 | 1.566667 | 1.202313 |  - | - |\n",
      "\n"
     ]
    }
   ],
   "source": [
    "results = [\n",
    "    results_PSO_1,\n",
    "    results_PSO_2,\n",
    "    results_PSO_3,\n",
    "    results_DE_1,\n",
    "    results_DE_2,\n",
    "    results_DE_3,\n",
    "    results_DE_4,\n",
    "    results_LM_1,\n",
    "    results_LM_2,\n",
    "    results_LM_3\n",
    "]\n",
    "names = [\n",
    "    'PSO 1',\n",
    "    'PSO 2',\n",
    "    'PSO 3',\n",
    "    'DE 1',\n",
    "    'DE 2',\n",
    "    'DE 3',\n",
    "    'DE 4',\n",
    "    'LM 1',\n",
    "    'LM 2',\n",
    "    'LM 3'\n",
    "]\n",
    "print(gen_total_table(results, names))"
   ]
  },
  {
   "attachments": {},
   "cell_type": "markdown",
   "metadata": {},
   "source": [
    "| Métodos| Tiempo Promedio (seg) | Tiempo Desviacion (seg) | RMSE Promedio | RMSE Desviacion | Iteraciones Promedio | Iteraciones Desviacion | Cant. Evaluaciones Promedio | Cant. Evaluaciones Desviacion |\n",
    "|---|---|---|---|---|---|---|---|---|\n",
    "| PSO 1 | 16.146225 | 2.786821 | 0.042763 | 0.024856 | 47.766667 | 7.636244 |  - | - |\n",
    "| PSO 2 | 17.973089 | 2.223733 | 0.047235 | 0.032874 | 51.8 | 5.81607 |  - | - |\n",
    "| PSO 3 | 20.056115 | 8.733108 | 4898.532286 | 18328.467931 | 55.866667 | 12.940204 |  - | - |\n",
    "| DE 1 | 57.05207 | 8.91154 | 1.773334 | 7.635237 | 88.733333 | 12.688402 |  - | - |\n",
    "| DE 2 | 23.522002 | 7.11211 | 98.931295 | 532.521319 | 38.7 | 12.122019 |  - | - |\n",
    "| DE 3 | 13.216901 | 1.746068 | 0.049754 | 0.031915 | 19.5 | 2.741654 |  - | - |\n",
    "| DE 4 | 7.944636 | 0.861948 | 0.047819 | 0.030119 | 22.9 | 2.612151 |  - | - |\n",
    "| LM 1 | 1.184774 | 1.758653 | 4119849.723321 | 5414559.389893 | 1.0 | 0.0 | 38.566667 | 54.275030 |\n",
    "| LM 2 | 1.164852 | 0.103465 | 0.0 | 0.0 | 1.0 | 0.0 | 40.0 | 0.0 |\n",
    "| LM 3 | 1.180474 | 0.813527 | 0.0 | 0.0 | 1.566667 | 1.202313 | 41.866667 | 28.902979 |"
   ]
  }
 ],
 "metadata": {
  "kernelspec": {
   "display_name": "ia-sim",
   "language": "python",
   "name": "python3"
  },
  "language_info": {
   "codemirror_mode": {
    "name": "ipython",
    "version": 3
   },
   "file_extension": ".py",
   "mimetype": "text/x-python",
   "name": "python",
   "nbconvert_exporter": "python",
   "pygments_lexer": "ipython3",
   "version": "3.11.0"
  },
  "orig_nbformat": 4
 },
 "nbformat": 4,
 "nbformat_minor": 2
}
